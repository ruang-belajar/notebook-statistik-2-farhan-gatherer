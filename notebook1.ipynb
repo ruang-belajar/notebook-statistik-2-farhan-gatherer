{
  "nbformat": 4,
  "nbformat_minor": 0,
  "metadata": {
    "colab": {
      "provenance": [],
      "toc_visible": true,
      "include_colab_link": true
    },
    "kernelspec": {
      "name": "python3",
      "display_name": "Python 3"
    },
    "language_info": {
      "name": "python"
    }
  },
  "cells": [
    {
      "cell_type": "markdown",
      "metadata": {
        "id": "view-in-github",
        "colab_type": "text"
      },
      "source": [
        "<a href=\"https://colab.research.google.com/github/ruang-belajar/notebook-statistik-2-farhan-gatherer/blob/main/notebook1.ipynb\" target=\"_parent\"><img src=\"https://colab.research.google.com/assets/colab-badge.svg\" alt=\"Open In Colab\"/></a>"
      ]
    },
    {
      "cell_type": "markdown",
      "source": [
        "# [Note Book Statistik 2]\n",
        "* Nama : Muhamad Farhan\n",
        "* NIM :  22020057"
      ],
      "metadata": {
        "id": "SOTwCKLPjXe4"
      }
    },
    {
      "cell_type": "code",
      "execution_count": null,
      "metadata": {
        "id": "MFCMGmiLjN-4"
      },
      "outputs": [],
      "source": [
        "\n",
        "# PERSIAPAN DATA\n",
        "\n",
        "# download file contoh csv\n",
        "!wget https://raw.githubusercontent.com/ruang-belajar/python/master/notebook/data/2013-data-kebakaran.csv -O data-kebakaran.csv\n",
        "\n",
        "\n",
        "import pandas as pd\n",
        "\n",
        "# load data ke dataframe (df)\n",
        "df = pd.read_csv(\"data-kebakaran.csv\")\n",
        "df.head()\n"
      ]
    },
    {
      "cell_type": "markdown",
      "source": [
        "# 1. Filter kejadian kebakaran yang terjadi di bulan Maret"
      ],
      "metadata": {
        "id": "IO2MQakquS49"
      }
    },
    {
      "cell_type": "code",
      "source": [
        "march_fire = df[(df['keterangan'] == 'Bencana Kebakaran') & (df['bulan'] == 3)]\n",
        "march_fire"
      ],
      "metadata": {
        "id": "XQy-Tg_7vseV"
      },
      "execution_count": null,
      "outputs": []
    },
    {
      "cell_type": "markdown",
      "source": [
        "# 2. Filter kejadian kebakaran yang nilai kerugiannya antara 50jt sampai 100jt"
      ],
      "metadata": {
        "id": "TPhGGM6PucUV"
      }
    },
    {
      "cell_type": "code",
      "source": [
        "damage_between_50_100 = df[(df['keterangan'] == 'Bencana Kebakaran') & (df['kerugian'] >= 50_000_000) & (df['kerugian'] <= 100_000_000)]\n",
        "damage_between_50_100"
      ],
      "metadata": {
        "id": "5A7l9GSwwCm8"
      },
      "execution_count": null,
      "outputs": []
    },
    {
      "cell_type": "markdown",
      "source": [
        "# 3. Tampilkan/Filter 5 kejadian yang tingkat kerugiannya paling besar"
      ],
      "metadata": {
        "id": "QzlSZT9Muheh"
      }
    },
    {
      "cell_type": "code",
      "source": [
        "top_5_damage = df.nlargest(5, 'kerugian')\n",
        "top_5_damage"
      ],
      "metadata": {
        "id": "Cb0U_k-_wQPS"
      },
      "execution_count": null,
      "outputs": []
    },
    {
      "cell_type": "markdown",
      "source": [
        "# 4. Menggunakan groupby dan count, hitung banyaknya kejadian kebakaran per bulan"
      ],
      "metadata": {
        "id": "5oi64MAmulIX"
      }
    },
    {
      "cell_type": "code",
      "source": [
        "fire_count_per_month = df[df['keterangan'] == 'Bencana Kebakaran'].groupby('bulan')['no'].count()\n",
        "fire_count_per_month"
      ],
      "metadata": {
        "id": "z86xR026wcvx"
      },
      "execution_count": null,
      "outputs": []
    },
    {
      "cell_type": "markdown",
      "source": [
        "# 5. Menggunakan groupby dan sum, hitung jumlah kerugian akibat kebakaran per bulan"
      ],
      "metadata": {
        "id": "nEyXpUtvuoj5"
      }
    },
    {
      "cell_type": "code",
      "source": [
        "total_damage_per_month = df[df['keterangan'] == 'Bencana Kebakaran'].groupby('bulan')['kerugian'].sum()\n",
        "total_damage_per_month"
      ],
      "metadata": {
        "id": "11FT9Zz3wqF6"
      },
      "execution_count": null,
      "outputs": []
    },
    {
      "cell_type": "markdown",
      "source": [
        "# 6. Menggunakan gruppby dan mean, hitung rata-rata kerugian akibat kebakaran per bulan"
      ],
      "metadata": {
        "id": "94UHkcGZurm8"
      }
    },
    {
      "cell_type": "code",
      "source": [
        "average_damage_per_month = df.groupby('bulan')['kerugian'].mean()\n",
        "average_damage_per_month"
      ],
      "metadata": {
        "id": "CLRlLrKawxA3"
      },
      "execution_count": null,
      "outputs": []
    },
    {
      "cell_type": "markdown",
      "source": [
        "# 7. Hitung banyaknya kejadian kebakaran yang disebabkan Listrik per bulan"
      ],
      "metadata": {
        "id": "N0fQnG6Fuu3h"
      }
    },
    {
      "cell_type": "code",
      "source": [
        "electric_fire_count = df[df['penyebab'] == 'Listrik'].groupby('bulan')['no'].count()\n",
        "electric_fire_count"
      ],
      "metadata": {
        "id": "bzLBBvbgw76O"
      },
      "execution_count": null,
      "outputs": []
    },
    {
      "cell_type": "markdown",
      "source": [
        "# 8. Hitung jumlah kerugian akibat kebakaran yang terjadi di kelurahan Kemayoran"
      ],
      "metadata": {
        "id": "J-E8STCHux2Z"
      }
    },
    {
      "cell_type": "code",
      "source": [
        "total_damage_kemayoran_bencana = df[(df['kelurahan'] == 'Kemayoran') & (df['keterangan'] == 'Bencana Kebakaran')]['kerugian'].sum()\n",
        "total_damage_kemayoran_bencana"
      ],
      "metadata": {
        "id": "HbfmQqzFxFeM"
      },
      "execution_count": null,
      "outputs": []
    },
    {
      "cell_type": "markdown",
      "source": [
        "# 9. Hitung rata-rata kerugian akibat kebakaran yang terjadi di bulan Juni dan Juli,  di Pasar Rebo"
      ],
      "metadata": {
        "id": "79_VJohVu1th"
      }
    },
    {
      "cell_type": "code",
      "source": [
        "average_damage_june_july_rebo = df[(df['bulan'].isin([6, 7])) & (df['kelurahan'] == 'Rawamangun')]['kerugian'].mean()\n",
        "average_damage_june_july_rebo"
      ],
      "metadata": {
        "id": "ikcPTyx_xOWp"
      },
      "execution_count": null,
      "outputs": []
    },
    {
      "cell_type": "markdown",
      "source": [
        "# 10. Menggunakan fungsi max, tampilkan nilai kerugian paling besar dari kejadian kebakaran per kelurahan."
      ],
      "metadata": {
        "id": "0rxA3nyMu5q6"
      }
    },
    {
      "cell_type": "code",
      "source": [
        "max_damage_per_kelurahan_bencana = df[df['keterangan'] == 'Bencana Kebakaran'].groupby('kelurahan')['kerugian'].max()\n",
        "max_damage_per_kelurahan_bencana"
      ],
      "metadata": {
        "id": "KDz5FK7Txxz0"
      },
      "execution_count": null,
      "outputs": []
    }
  ]
}